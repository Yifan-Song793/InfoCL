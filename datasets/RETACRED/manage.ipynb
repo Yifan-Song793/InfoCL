{
 "cells": [
  {
   "cell_type": "code",
   "execution_count": 2,
   "metadata": {},
   "outputs": [],
   "source": [
    "import json\n",
    "data = json.load(open(\"data_with_marker.json\", 'r'))"
   ]
  },
  {
   "cell_type": "code",
   "execution_count": 3,
   "metadata": {},
   "outputs": [],
   "source": [
    "keys = data.keys()"
   ]
  },
  {
   "cell_type": "code",
   "execution_count": 4,
   "metadata": {},
   "outputs": [
    {
     "data": {
      "text/plain": [
       "dict_keys(['org:founded_by', 'per:identity', 'org:alternate_names', 'per:children', 'per:origin', 'per:countries_of_residence', 'per:employee_of', 'per:title', 'org:city_of_branch', 'per:religion', 'per:age', 'per:date_of_death', 'org:website', 'per:stateorprovinces_of_residence', 'org:top_members/employees', 'org:number_of_employees/members', 'org:members', 'org:country_of_branch', 'per:spouse', 'org:stateorprovince_of_branch', 'org:political/religious_affiliation', 'org:member_of', 'per:siblings', 'per:stateorprovince_of_birth', 'org:dissolved', 'per:other_family', 'org:shareholders', 'per:parents', 'per:charges', 'per:schools_attended', 'per:cause_of_death', 'per:city_of_death', 'per:stateorprovince_of_death', 'org:founded', 'per:country_of_death', 'per:country_of_birth', 'per:date_of_birth', 'per:cities_of_residence', 'per:city_of_birth'])"
      ]
     },
     "execution_count": 4,
     "metadata": {},
     "output_type": "execute_result"
    }
   ],
   "source": [
    "keys"
   ]
  },
  {
   "cell_type": "code",
   "execution_count": 5,
   "metadata": {},
   "outputs": [],
   "source": [
    "cnt = 0\n",
    "for key, value in data.items():\n",
    "    for item in value:\n",
    "        item['id'] = cnt\n",
    "        cnt+=1\n",
    "json.dump(data,open(\"data_with_marker_.json\", 'w'))"
   ]
  },
  {
   "cell_type": "code",
   "execution_count": null,
   "metadata": {},
   "outputs": [],
   "source": []
  }
 ],
 "metadata": {
  "kernelspec": {
   "display_name": "rationale",
   "language": "python",
   "name": "python3"
  },
  "language_info": {
   "codemirror_mode": {
    "name": "ipython",
    "version": 3
   },
   "file_extension": ".py",
   "mimetype": "text/x-python",
   "name": "python",
   "nbconvert_exporter": "python",
   "pygments_lexer": "ipython3",
   "version": "3.8.16"
  },
  "orig_nbformat": 4
 },
 "nbformat": 4,
 "nbformat_minor": 2
}
